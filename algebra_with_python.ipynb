{
  "nbformat": 4,
  "nbformat_minor": 0,
  "metadata": {
    "colab": {
      "provenance": [],
      "toc_visible": true,
      "authorship_tag": "ABX9TyOFY8IVacnXUovSbtb+vTA1",
      "include_colab_link": true
    },
    "kernelspec": {
      "name": "python3",
      "display_name": "Python 3"
    },
    "language_info": {
      "name": "python"
    }
  },
  "cells": [
    {
      "cell_type": "markdown",
      "metadata": {
        "id": "view-in-github",
        "colab_type": "text"
      },
      "source": [
        "<a href=\"https://colab.research.google.com/github/Shanthinisakthi12/Algebra-with-python/blob/main/algebra_with_python.ipynb\" target=\"_parent\"><img src=\"https://colab.research.google.com/assets/colab-badge.svg\" alt=\"Open In Colab\"/></a>"
      ]
    },
    {
      "cell_type": "markdown",
      "source": [
        "# Algebra week-1"
      ],
      "metadata": {
        "id": "d1grFgXf1Ane"
      }
    },
    {
      "cell_type": "markdown",
      "source": [
        "Solving proportions"
      ],
      "metadata": {
        "id": "ObgK9WPP1GEB"
      }
    },
    {
      "cell_type": "code",
      "execution_count": null,
      "metadata": {
        "colab": {
          "base_uri": "https://localhost:8080/"
        },
        "id": "KlOrR_aN09KF",
        "outputId": "a78c821c-672a-46b7-e914-38ae63105442"
      },
      "outputs": [
        {
          "output_type": "stream",
          "name": "stdout",
          "text": [
            "num4= 14.0\n"
          ]
        }
      ],
      "source": [
        "num1=1\n",
        "num2=2\n",
        "num3=7\n",
        "num4=0\n",
        "\n",
        "if num3==0:\n",
        "    res=num1 * num4 / num2\n",
        "    print(\"num3=\",res)\n",
        "\n",
        "if num4==0:\n",
        "    res1=num2 * num3 / num1\n",
        "    print(\"num4=\",res1)\n"
      ]
    },
    {
      "cell_type": "markdown",
      "source": [
        "extra problems on proportions"
      ],
      "metadata": {
        "id": "MzF2FGx08JzP"
      }
    },
    {
      "cell_type": "code",
      "execution_count": null,
      "metadata": {
        "id": "cWodkgQDlKuV"
      },
      "outputs": [],
      "source": [
        "# converts string input (even fractions) to float\n",
        "def string_frac(in_string):\n",
        "    if \"/\" in in_string:\n",
        "        nd = in_string.split(\"/\")\n",
        "        n = float(nd[0])\n",
        "        d = float(nd[1])\n",
        "        ans = n/d\n",
        "        return ans\n",
        "    else:\n",
        "        ans = float(in_string)\n",
        "        return ans\n",
        "\n",
        "\n",
        "# Simplest one-step addition\n",
        "def one_step_add():\n",
        "    import random\n",
        "    # Display problem\n",
        "    a = random.randint(-4,10)\n",
        "    b = random.randint(2,24)\n",
        "    print(\"x + \", a, \" = \", b)\n",
        "    ans = float(input(\"x = \"))\n",
        "    answer = b-a\n",
        "    # Test input\n",
        "    if ans==answer:\n",
        "        print(\"Correct! \\n\")\n",
        "    else:\n",
        "        print(\"Try again\")\n",
        "        print(\"The correct answer is \", answer, \"\\n\")\n",
        "\n",
        "\n",
        "# One-step additon with negaive numbers\n",
        "def one_step_subtract():\n",
        "    import random\n",
        "    a = random.randint(-19,-1)\n",
        "    b = random.randint(2,24)\n",
        "    print(a, \" + x = \", b)\n",
        "    ans = float(input(\"x = \"))\n",
        "    # test\n",
        "    answer = b-a\n",
        "    if ans==answer:\n",
        "        print(\"Correct! \\n\")\n",
        "    else:\n",
        "        print(\"Try again\")\n",
        "        print(\"The correct answer is \", answer, \"\\n\")\n",
        "\n",
        "# One-step multiply\n",
        "def one_step_mult():\n",
        "    # Uses string_frac(<input string>)\n",
        "    import random\n",
        "    a = random.randint(1,11)\n",
        "    b = random.randint(2,24)\n",
        "    print(a, \"x = \", b)\n",
        "    print(\"Round your answer to two decimal places.\")\n",
        "    ans_in = (input(\"x = \"))\n",
        "    answer = round(b/a,2)\n",
        "    # test\n",
        "    if string_frac(ans_in)==answer:\n",
        "        print(\"Correct! \\n\")\n",
        "    else:\n",
        "        print(\"Try again\")\n",
        "        print(\"The correct answer is \", answer, \"\\n\")\n",
        "\n",
        "\n",
        "# One-step divide\n",
        "def one_step_div():\n",
        "    import random\n",
        "    a = random.randint(1,11)\n",
        "    b = random.randint(2,24)\n",
        "    print(\"x/\", a, \" = \", b)\n",
        "    ans = float(input(\"x = \"))\n",
        "    answer = b*a\n",
        "    # test\n",
        "    if ans==answer:\n",
        "        print(\"Correct! \\n\")\n",
        "    else:\n",
        "        print(\"Try again\")\n",
        "        print(\"The correct answer is \", answer, \"\\n\")\n",
        "\n",
        "\n",
        "# Two-step problems\n",
        "def two_step():\n",
        "    import random\n",
        "    # Uses string_frac()\n",
        "    a = random.randint(1,11)\n",
        "    b = random.randint(-7,12)\n",
        "    c = random.randint(2,36)\n",
        "    print(a, \"x + \", b, \" = \", c)\n",
        "    print(\"Round answer to two decimal places\")\n",
        "    ans_in = input(\"x = \")\n",
        "    answer = (c-b)/a\n",
        "    # test\n",
        "    if round(string_frac(ans_in),2)==round(answer,2):\n",
        "        print(\"Correct! \\n\")\n",
        "    else:\n",
        "        print(\"Try again\")\n",
        "        print(\"The correct answer is \", answer, \"\\n\")\n",
        "\n",
        "\n",
        "# test loop\n",
        "for a in range(2):\n",
        "    one_step_add()\n",
        "    one_step_subtract()\n",
        "    one_step_mult()\n",
        "    one_step_div()\n",
        "    two_step()\n",
        "    print(\" \")\n",
        "\n",
        "two_step()\n",
        "two_step()\n"
      ]
    },
    {
      "cell_type": "code",
      "source": [
        "def string_frac(in_string):\n",
        "    if \"/\" in in_string:\n",
        "        nd = in_string.split(\"/\")\n",
        "        n = float(nd[0])\n",
        "        d = float(nd[1])\n",
        "        ans = n/d\n",
        "        return ans\n",
        "    else:\n",
        "        ans = float(in_string)\n",
        "        return ans\n",
        "\n",
        "num1 =input('Enter the first number : ')\n",
        "#num2=input('Enter the second number')\n",
        "result = string_frac(num1)\n",
        "print(\"Result-division:\",result)"
      ],
      "metadata": {
        "colab": {
          "base_uri": "https://localhost:8080/"
        },
        "id": "2Xrw_lVdsmnR",
        "outputId": "0c98cf93-c8bd-4d68-f79a-e1fd67afab32"
      },
      "execution_count": null,
      "outputs": [
        {
          "output_type": "stream",
          "name": "stdout",
          "text": [
            "Enter the first number : 5/6\n",
            "Result-division: 0.8333333333333334\n"
          ]
        }
      ]
    },
    {
      "cell_type": "markdown",
      "source": [
        "# Algebra -Week 2"
      ],
      "metadata": {
        "id": "VFHzltoJ8RCS"
      }
    },
    {
      "cell_type": "markdown",
      "source": [
        "Solving for X"
      ],
      "metadata": {
        "id": "geIPnv2u8P_Y"
      }
    },
    {
      "cell_type": "code",
      "source": [
        "import sympy\n",
        "from sympy import symbols\n",
        "from sympy.solvers import solve\n",
        "x=symbols('x')\n",
        "eq= 3*x/4 - 7\n",
        "print(\"x=\",solve(eq))"
      ],
      "metadata": {
        "id": "mJaa0FY78YAY"
      },
      "execution_count": null,
      "outputs": []
    },
    {
      "cell_type": "code",
      "source": [
        "import sympy\n",
        "from sympy import symbols\n",
        "from sympy.solvers import solve\n",
        "x=symbols('x')\n",
        "eq= x**3 - 7\n",
        "print(\"x=\",solve(eq))"
      ],
      "metadata": {
        "id": "tNwFJhn-CSoP"
      },
      "execution_count": null,
      "outputs": []
    },
    {
      "cell_type": "code",
      "source": [
        "import sympy\n",
        "from sympy import symbols\n",
        "from sympy.solvers import solve\n",
        "x=symbols('x')\n",
        "eq= x**2 - 4\n",
        "print(\"x=\",solve(eq))"
      ],
      "metadata": {
        "id": "7Zs96r6yCiAx"
      },
      "execution_count": null,
      "outputs": []
    },
    {
      "cell_type": "markdown",
      "source": [
        "how to solve for x -Extra"
      ],
      "metadata": {
        "id": "gUvR0bOBCw2W"
      }
    },
    {
      "cell_type": "code",
      "source": [
        "import sympy\n",
        "from sympy import symbols\n",
        "from sympy.solvers import solve\n",
        "x=symbols('x')\n",
        "eq= 2*x**2 +1\n",
        "print(\"x=\",solve(eq))"
      ],
      "metadata": {
        "id": "ygNVj5gJCzgJ"
      },
      "execution_count": null,
      "outputs": []
    },
    {
      "cell_type": "code",
      "source": [
        "import sympy\n",
        "from sympy import symbols\n",
        "from sympy.solvers import solve\n",
        "x=symbols('x')\n",
        "eq= 2*x**2 -4\n",
        "print(\"x=\",solve(eq))"
      ],
      "metadata": {
        "id": "DUbM-2bBD2SN"
      },
      "execution_count": null,
      "outputs": []
    },
    {
      "cell_type": "markdown",
      "source": [
        "prompt for someone to enter the equation,then solve"
      ],
      "metadata": {
        "id": "HCkEj212D-JI"
      }
    },
    {
      "cell_type": "code",
      "source": [
        "import sympy\n",
        "from sympy import symbols\n",
        "from sympy.solvers import solve\n",
        "\n",
        "x = symbols('x')\n",
        "\n",
        "eq = input('Enter equation: 0 = ')\n",
        "\n",
        "solution = solve(eq,x)\n",
        "for s in solution:\n",
        "    print(\"x = \", s)"
      ],
      "metadata": {
        "colab": {
          "base_uri": "https://localhost:8080/"
        },
        "id": "dQY1ahgWEDU3",
        "outputId": "33e86487-1406-43f8-aa34-6c7baeaf842b"
      },
      "execution_count": null,
      "outputs": [
        {
          "output_type": "stream",
          "name": "stdout",
          "text": [
            "Enter equation: 0 = (x+1)+(x-2)\n",
            "x =  1/2\n"
          ]
        }
      ]
    },
    {
      "cell_type": "markdown",
      "source": [
        "Solve in other ways"
      ],
      "metadata": {
        "id": "n9cmtZueJNxh"
      }
    },
    {
      "cell_type": "code",
      "source": [
        "from sympy import *\n",
        "\n",
        "\n",
        "var('x y')\n",
        "\n",
        "# First equation set equal to zero, ready to solve\n",
        "first = 2*x - y\n",
        "\n",
        "\n",
        "# Sympy syntax for equation equal to zero, ready to factor\n",
        "eq1 = Eq(first,0)\n",
        "\n",
        "# Sympy solve for x\n",
        "sol = solve(eq1,x)\n",
        "\n",
        "# Show factored results\n",
        "print(\"x = \", sol[0])"
      ],
      "metadata": {
        "colab": {
          "base_uri": "https://localhost:8080/"
        },
        "id": "Uu4SH08VJMPj",
        "outputId": "98947861-accc-489e-ac58-90776026a444"
      },
      "execution_count": null,
      "outputs": [
        {
          "output_type": "stream",
          "name": "stdout",
          "text": [
            "x =  y/2\n"
          ]
        }
      ]
    },
    {
      "cell_type": "code",
      "source": [
        "from sympy import *\n",
        "\n",
        "\n",
        "var('x y')\n",
        "\n",
        "# First equation set equal to zero, ready to solve\n",
        "first = 2*x + 10\n",
        "\n",
        "\n",
        "# Sympy syntax for equation equal to zero, ready to factor\n",
        "eq1 = Eq(first,y)\n",
        "\n",
        "# Sympy solve for x\n",
        "sol = solve(eq1,x)\n",
        "\n",
        "# Show factored results\n",
        "print(\"x = \", sol[0])"
      ],
      "metadata": {
        "colab": {
          "base_uri": "https://localhost:8080/"
        },
        "id": "kd_kql2mJpAW",
        "outputId": "a861bf62-c250-4c18-bf2e-07a1e13fbeab"
      },
      "execution_count": null,
      "outputs": [
        {
          "output_type": "stream",
          "name": "stdout",
          "text": [
            "x =  y/2 - 5\n"
          ]
        }
      ]
    },
    {
      "cell_type": "code",
      "source": [
        "from sympy import *\n",
        "\n",
        "\n",
        "var('x y')\n",
        "\n",
        "# First equation set equal to zero, ready to solve\n",
        "first = 2*x - y +10\n",
        "\n",
        "\n",
        "# Sympy syntax for equation equal to zero, ready to factor\n",
        "eq1 = Eq(first,0)\n",
        "\n",
        "# Sympy solve for x\n",
        "sol = solve(eq1,x)\n",
        "\n",
        "# Show factored results\n",
        "print(\"x = \", sol[0])"
      ],
      "metadata": {
        "colab": {
          "base_uri": "https://localhost:8080/"
        },
        "id": "99SFnaMOJyD9",
        "outputId": "303676ca-fd73-4ed9-c5dd-69263d200d40"
      },
      "execution_count": null,
      "outputs": [
        {
          "output_type": "stream",
          "name": "stdout",
          "text": [
            "x =  y/2 - 5\n"
          ]
        }
      ]
    },
    {
      "cell_type": "markdown",
      "source": [
        "Fcatoring"
      ],
      "metadata": {
        "id": "Jgx_tTO9KB39"
      }
    },
    {
      "cell_type": "code",
      "source": [
        "import sympy\n",
        "from sympy import *\n",
        "\n",
        "var('x y')\n",
        "\n",
        "# Equation set equal to zero, ready to solve\n",
        "eq = 2*x + 10*y +6\n",
        "#eq = x**3 - 2*x**2 - 5*x + 6\n",
        "\n",
        "sympy.factor(eq)"
      ],
      "metadata": {
        "colab": {
          "base_uri": "https://localhost:8080/",
          "height": 39
        },
        "id": "VxJwBh9cKDwZ",
        "outputId": "f946ec1b-7f70-4aee-bb6d-524ef245494b"
      },
      "execution_count": null,
      "outputs": [
        {
          "output_type": "execute_result",
          "data": {
            "text/plain": [
              "2*(x + 5*y + 3)"
            ],
            "text/latex": "$\\displaystyle 2 \\left(x + 5 y + 3\\right)$"
          },
          "metadata": {},
          "execution_count": 27
        }
      ]
    },
    {
      "cell_type": "code",
      "source": [
        "import sympy\n",
        "from sympy import *\n",
        "\n",
        "var('x y')\n",
        "\n",
        "# Equation set equal to zero, ready to solve\n",
        "#eq = x**2-4\n",
        "eq = 2*x + 10*y +3\n",
        "#eq = x**3 - 2*x**2 - 5*x + 6\n",
        "\n",
        "sympy.factor(eq)"
      ],
      "metadata": {
        "colab": {
          "base_uri": "https://localhost:8080/",
          "height": 39
        },
        "id": "HOFyi7gRKZob",
        "outputId": "625c878d-861a-429c-d06e-8ca07e99ebde"
      },
      "execution_count": null,
      "outputs": [
        {
          "output_type": "execute_result",
          "data": {
            "text/plain": [
              "2*x + 10*y + 3"
            ],
            "text/latex": "$\\displaystyle 2 x + 10 y + 3$"
          },
          "metadata": {},
          "execution_count": 28
        }
      ]
    },
    {
      "cell_type": "code",
      "source": [
        "import sympy\n",
        "from sympy import *\n",
        "\n",
        "var('x y')\n",
        "\n",
        "# Equation set equal to zero, ready to solve\n",
        "eq = x**2-4\n",
        "#eq = 2*x + 10*y +3\n",
        "#eq = x**3 - 2*x**2 - 5*x + 6\n",
        "\n",
        "sympy.factor(eq)\n"
      ],
      "metadata": {
        "colab": {
          "base_uri": "https://localhost:8080/",
          "height": 39
        },
        "id": "703PS7cAKr1V",
        "outputId": "140c69d8-47cc-47f3-d529-dc6f5ec82373"
      },
      "execution_count": null,
      "outputs": [
        {
          "output_type": "execute_result",
          "data": {
            "text/plain": [
              "(x - 2)*(x + 2)"
            ],
            "text/latex": "$\\displaystyle \\left(x - 2\\right) \\left(x + 2\\right)$"
          },
          "metadata": {},
          "execution_count": 30
        }
      ]
    },
    {
      "cell_type": "code",
      "source": [
        "import sympy\n",
        "from sympy import *\n",
        "\n",
        "var('x y')\n",
        "\n",
        "# Equation set equal to zero, ready to solve\n",
        "#eq = x**2-4\n",
        "#eq = 2*x + 10*y +3\n",
        "eq = x**3 - 2*x**2 - 5*x + 6\n",
        "\n",
        "sympy.factor(eq)"
      ],
      "metadata": {
        "colab": {
          "base_uri": "https://localhost:8080/",
          "height": 39
        },
        "id": "NT_PPOMpK0sQ",
        "outputId": "ae4a4cfa-638a-4aaf-fa37-1c6f8d6b347d"
      },
      "execution_count": null,
      "outputs": [
        {
          "output_type": "execute_result",
          "data": {
            "text/plain": [
              "(x - 3)*(x - 1)*(x + 2)"
            ],
            "text/latex": "$\\displaystyle \\left(x - 3\\right) \\left(x - 1\\right) \\left(x + 2\\right)$"
          },
          "metadata": {},
          "execution_count": 31
        }
      ]
    },
    {
      "cell_type": "code",
      "source": [
        "print(3/4)"
      ],
      "metadata": {
        "colab": {
          "base_uri": "https://localhost:8080/"
        },
        "id": "qkgEQSebLOfy",
        "outputId": "6b141d70-3786-4e77-dc49-5e409e028e03"
      },
      "execution_count": null,
      "outputs": [
        {
          "output_type": "stream",
          "name": "stdout",
          "text": [
            "0.75\n"
          ]
        }
      ]
    },
    {
      "cell_type": "code",
      "source": [
        "frac=float(input())\n",
        "print(frac)\n",
        "#use string_frac()"
      ],
      "metadata": {
        "colab": {
          "base_uri": "https://localhost:8080/",
          "height": 218
        },
        "id": "p5fEjZq5LRFU",
        "outputId": "b7ed1e69-aeb9-41f3-feb9-a0323c872af8"
      },
      "execution_count": null,
      "outputs": [
        {
          "name": "stdout",
          "output_type": "stream",
          "text": [
            "fraction=2/3\n"
          ]
        },
        {
          "output_type": "error",
          "ename": "ValueError",
          "evalue": "ignored",
          "traceback": [
            "\u001b[0;31m---------------------------------------------------------------------------\u001b[0m",
            "\u001b[0;31mValueError\u001b[0m                                Traceback (most recent call last)",
            "\u001b[0;32m<ipython-input-33-68757b9277c3>\u001b[0m in \u001b[0;36m<cell line: 1>\u001b[0;34m()\u001b[0m\n\u001b[0;32m----> 1\u001b[0;31m \u001b[0mfrac\u001b[0m\u001b[0;34m=\u001b[0m\u001b[0mfloat\u001b[0m\u001b[0;34m(\u001b[0m\u001b[0minput\u001b[0m\u001b[0;34m(\u001b[0m\u001b[0;34m\"fraction=\"\u001b[0m\u001b[0;34m)\u001b[0m\u001b[0;34m)\u001b[0m\u001b[0;34m\u001b[0m\u001b[0;34m\u001b[0m\u001b[0m\n\u001b[0m\u001b[1;32m      2\u001b[0m \u001b[0mprint\u001b[0m\u001b[0;34m(\u001b[0m\u001b[0mfrac\u001b[0m\u001b[0;34m)\u001b[0m\u001b[0;34m\u001b[0m\u001b[0;34m\u001b[0m\u001b[0m\n",
            "\u001b[0;31mValueError\u001b[0m: could not convert string to float: '2/3'"
          ]
        }
      ]
    },
    {
      "cell_type": "markdown",
      "source": [
        "# Algebra - week 3"
      ],
      "metadata": {
        "id": "PguceV16MmVh"
      }
    },
    {
      "cell_type": "markdown",
      "source": [
        "fractions and decimals"
      ],
      "metadata": {
        "id": "RlhB5wnxMsK-"
      }
    },
    {
      "cell_type": "markdown",
      "source": [],
      "metadata": {
        "id": "aWxEra_ISDr1"
      }
    },
    {
      "cell_type": "code",
      "source": [
        "print(10**1)\n",
        "print(10**2)\n",
        "print(10**3)\n",
        "\n",
        "print(10**0)\n",
        "\n",
        "print(10**-1)\n",
        "print(10**-2)\n",
        "print(10**-3)"
      ],
      "metadata": {
        "colab": {
          "base_uri": "https://localhost:8080/"
        },
        "id": "feZKRC2sMulz",
        "outputId": "667538d7-4fc4-455b-b490-a97f8caf6bce"
      },
      "execution_count": null,
      "outputs": [
        {
          "output_type": "stream",
          "name": "stdout",
          "text": [
            "10\n",
            "100\n",
            "1000\n",
            "1\n",
            "0.1\n",
            "0.01\n",
            "0.001\n"
          ]
        }
      ]
    },
    {
      "cell_type": "markdown",
      "source": [
        "User input comes in as a string. You can find the length of the string"
      ],
      "metadata": {
        "id": "V0fElU4nPvwT"
      }
    },
    {
      "cell_type": "code",
      "source": [
        "text = input(\"Enter a number\")\n",
        "print(text)\n",
        "\n",
        "print(len(text))\n",
        "\n",
        "# error - can't do math here\n",
        "# print(text+3)"
      ],
      "metadata": {
        "colab": {
          "base_uri": "https://localhost:8080/"
        },
        "id": "YPcfnjZMPtYA",
        "outputId": "a802e5cc-2142-4add-b158-332cb490d2f3"
      },
      "execution_count": null,
      "outputs": [
        {
          "output_type": "stream",
          "name": "stdout",
          "text": [
            "Enter a number0.123\n",
            "0.123\n",
            "5\n"
          ]
        }
      ]
    },
    {
      "cell_type": "markdown",
      "source": [
        "Cast input as a float or int variable"
      ],
      "metadata": {
        "id": "nEDbGGZVPyvw"
      }
    },
    {
      "cell_type": "code",
      "source": [
        "text = input(\"Enter a number\")\n",
        "num = float(text)\n",
        "print(num + 4)"
      ],
      "metadata": {
        "colab": {
          "base_uri": "https://localhost:8080/"
        },
        "id": "uH3Z9holP0vI",
        "outputId": "022adde6-73ef-40cc-a3f5-610d64f1fa82"
      },
      "execution_count": null,
      "outputs": [
        {
          "output_type": "stream",
          "name": "stdout",
          "text": [
            "Enter a number4\n",
            "8.0\n"
          ]
        }
      ]
    },
    {
      "cell_type": "code",
      "source": [
        "# Get string input, which will include a decimal point\n",
        "digits = input(\"Enter a decimal number to convert: \")\n",
        "\n",
        "# Get number of decimal places as an integer\n",
        "exponent = int(len(digits))-1\n",
        "\n",
        "# Convert the input to a float number\n",
        "n = float(digits)\n",
        "\n",
        "# Use the exponent to get the numerator\n",
        "numerator = int(n * 10**exponent)\n",
        "\n",
        "# Use the expoent to get the denominator\n",
        "denominator = 10**exponent\n",
        "\n",
        "# percent is the first two decimal places\n",
        "percent = n * 100\n",
        "\n",
        "# Output\n",
        "print(\"The decimal is \", n)\n",
        "print(\"The fraction is \", numerator, \"/\", denominator)\n",
        "print(\"The percent is \", percent, \" %\")"
      ],
      "metadata": {
        "colab": {
          "base_uri": "https://localhost:8080/"
        },
        "id": "rTgrOTNfQYFn",
        "outputId": "2173be30-5cda-4ed5-86c8-adcae003a020"
      },
      "execution_count": null,
      "outputs": [
        {
          "output_type": "stream",
          "name": "stdout",
          "text": [
            "Enter a decimal number to convert: .123\n",
            "The decimal is  0.123\n",
            "The fraction is  123 / 1000\n",
            "The percent is  12.3  %\n"
          ]
        }
      ]
    },
    {
      "cell_type": "markdown",
      "source": [
        "# Building personalized algebra calculator"
      ],
      "metadata": {
        "id": "aF3mTpYGT4Qj"
      }
    },
    {
      "cell_type": "markdown",
      "source": [
        "proportion"
      ],
      "metadata": {
        "id": "Cj_XPpAzSbdC"
      }
    },
    {
      "cell_type": "code",
      "execution_count": null,
      "metadata": {
        "id": "NipG5UbBJWVd"
      },
      "outputs": [],
      "source": [
        "# Put a zero in for the unknown value\n",
        "n1 = 1\n",
        "d1 = 2\n",
        "n2 = 4\n",
        "d2 = 0\n",
        "\n",
        "if n2==0:\n",
        "    answer = d2 * n1 / d1\n",
        "    print(\"n2 = \", answer)\n",
        "\n",
        "if d2==0:\n",
        "    answer = n2 * d1 / n1\n",
        "    print(\"d2 = \", answer)\n"
      ]
    },
    {
      "cell_type": "markdown",
      "source": [
        "decimal -->fraction -->percent conversion"
      ],
      "metadata": {
        "id": "QNvfBs1ySxWE"
      }
    },
    {
      "cell_type": "code",
      "execution_count": null,
      "metadata": {
        "id": "pDaZckUyBKRl"
      },
      "outputs": [],
      "source": [
        "\n",
        "# Get string input, which will include a decimal point\n",
        "digits = input(\"Enter a decimal number to convert: \")\n",
        "\n",
        "# Get number of decimal places as an integer\n",
        "exponent = int(len(digits))-1\n",
        "\n",
        "# Convert the input to a float number\n",
        "n = float(digits)\n",
        "\n",
        "# Use the exponent to get the numerator\n",
        "numerator = int(n * 10**exponent)\n",
        "\n",
        "# Use the expoent to get the denominator\n",
        "denominator = 10**exponent\n",
        "\n",
        "# percent is the first two decimal places\n",
        "percent = n * 100\n",
        "\n",
        "# Output\n",
        "print(\"The decimal is \", n)\n",
        "print(\"The fraction is \", numerator, \"/\", denominator)\n",
        "print(\"The percent is \", percent, \" %\")\n",
        "\n"
      ]
    },
    {
      "cell_type": "markdown",
      "source": [
        "Solve for X"
      ],
      "metadata": {
        "id": "NIqHyzO5SuRu"
      }
    },
    {
      "cell_type": "code",
      "source": [
        "import sympy\n",
        "from sympy import symbols\n",
        "from sympy.solvers import solve\n",
        "\n",
        "x = symbols('x')\n",
        "\n",
        "eq = input('Enter equation: 0 = ')\n",
        "\n",
        "solution = solve(eq,x)\n",
        "for s in solution:\n",
        "    print(\"x = \", s)\n",
        "\n",
        "sympy.factor(eq)"
      ],
      "metadata": {
        "id": "JAvk-AYdFj0k"
      },
      "execution_count": null,
      "outputs": []
    },
    {
      "cell_type": "markdown",
      "source": [
        "factoring"
      ],
      "metadata": {
        "id": "WCcs0lLgS4EB"
      }
    },
    {
      "cell_type": "code",
      "source": [
        "import sympy\n",
        "from sympy import *\n",
        "import math\n",
        "\n",
        "var('x y')\n",
        "\n",
        "# Equation to factor\n",
        "eq = x**3 - 2*x**2 - 5*x + 6\n",
        "\n",
        "\n",
        "sympy.factor(eq)\n"
      ],
      "metadata": {
        "id": "2JjZ1cPNPqe8"
      },
      "execution_count": null,
      "outputs": []
    },
    {
      "cell_type": "markdown",
      "source": [
        "Solve for a variable"
      ],
      "metadata": {
        "id": "Rem6DLn9S-BT"
      }
    },
    {
      "cell_type": "code",
      "execution_count": null,
      "metadata": {
        "id": "egdhbgMnYPYA"
      },
      "outputs": [],
      "source": [
        "from sympy import *\n",
        "import math\n",
        "\n",
        "# Identify all variables\n",
        "var('a b c d x')\n",
        "\n",
        "# Left and right sides of the equal sign\n",
        "left = 0\n",
        "right = a*x**2 + b*x + c\n",
        "\n",
        "# Variable to solve for\n",
        "variable = x\n",
        "\n",
        "# Sympy equation left = right\n",
        "eq1 = Eq(left,right)\n",
        "\n",
        "# Sympy solve for that variable\n",
        "sol = solve(eq1,variable)\n",
        "\n",
        "# Show factored results\n",
        "for s in sol:\n",
        "    print(variable, \" = \", s)\n"
      ]
    },
    {
      "cell_type": "markdown",
      "source": [
        "putting all together"
      ],
      "metadata": {
        "id": "kxgtIBPRC_fj"
      }
    },
    {
      "cell_type": "code",
      "source": [],
      "metadata": {
        "id": "VSNbKgPoDB5j"
      },
      "execution_count": null,
      "outputs": []
    },
    {
      "cell_type": "code",
      "source": [
        "# Write your code here\n",
        "\n",
        "\n",
        "# This step does not have test\n",
        "import math\n",
        "import sympy\n",
        "from sympy import symbols\n",
        "from sympy.solvers import solve\n",
        "import matplotlib.pyplot as plt\n",
        "import numpy as np\n",
        "def string_frac(in_string):\n",
        "    if \"/\" in in_string:\n",
        "        nd = in_string.split(\"/\")\n",
        "        n = float(nd[0])\n",
        "        d = float(nd[1])\n",
        "        ans = n/d\n",
        "        return ans\n",
        "    else:\n",
        "        ans = float(in_string)\n",
        "        return ans\n",
        "#addition\n",
        "def add():\n",
        "  num1 = float(input('Enter the first number : '))\n",
        "  num2=float(input('Enter the second number'))\n",
        "  result=num1+num2\n",
        "  print(\"Result-addition:\",result)\n",
        "#subtraction\n",
        "def sub():\n",
        "  num1 = float(input('Enter the first number : '))\n",
        "  num2=float(input('Enter the second number'))\n",
        "  result=num1-num2\n",
        "  print(\"Result-subtraction:\",result)\n",
        "#multiplication\n",
        "def mul():\n",
        "  num1 = float(input('Enter the first number : '))\n",
        "  num2=float(input('Enter the second number'))\n",
        "  result=num1*num2\n",
        "  print(\"Result-multiplication:\",result)\n",
        "#division\n",
        "def div():\n",
        "  num1 =input('Enter the expression(x/y) format : ')\n",
        "  result = string_frac(num1)\n",
        "  print(\"Result-division:\",result)\n",
        "#prime\n",
        "def prime(n):\n",
        "\n",
        "  if n<=1:\n",
        "    return False\n",
        "  for i in range(2,int(math.sqrt(n))\n",
        "  +1):\n",
        "    if n%1==0:\n",
        "        return False\n",
        "  return True\n",
        "#prime factors\n",
        "def prime_fac():\n",
        "  num=int(input('Enter the number'))\n",
        "  factors=[]\n",
        "  for i in range(2,num+1):\n",
        "    while num%i==0 and prime(i):\n",
        "      factors.append(i)\n",
        "      num//=i\n",
        "  print(\"Prime factors:\",factors)\n",
        "#simplify square roots\n",
        "\n",
        "def sq_root():\n",
        "  num1=int(input('enter the number'))\n",
        "  s=math.isqrt(num1)\n",
        "  print(\"Simplified square root:\",s)\n",
        "\n",
        "#solve for a variable\n",
        "def solve_x():\n",
        "  x = symbols('x')\n",
        "  eq = input('Enter equation: 0 = ')\n",
        "  solution = solve(eq,x)\n",
        "  for s in solution:\n",
        "    print(\"x = \", s)\n",
        "\n",
        "def func(x):\n",
        "  y=4*x+3\n",
        "  return y\n",
        "\n",
        "def graph_func():\n",
        "  xmin = -10\n",
        "  xmax = 10\n",
        "  ymin = -10\n",
        "  ymax = 10\n",
        "  points = 2*(xmax-xmin)\n",
        "  x = np.linspace(xmin, xmax, points)\n",
        "  fig, ax = plt.subplots()\n",
        "  plt.axis([xmin,xmax,ymin,ymax]) # window size\n",
        "  plt.plot([xmin,xmax],[0,0],'b') # blue x axis\n",
        "  plt.plot([0,0],[ymin,ymax], 'b') # blue y axis\n",
        "  y=x**7+7\n",
        "  plt.plot(x,y, 'black')\n",
        "  plt.show()\n",
        "\n",
        "\n",
        "while True:\n",
        "  print(\"\\Menu:\")\n",
        "  print(\"1.Add\")\n",
        "  print(\"2.Subtract\")\n",
        "  print(\"3.Multiply\")\n",
        "  print(\"4.Divide\")\n",
        "  print(\"5.Detect prime numbers\")\n",
        "  print(\"6.Generate prime factors of a number\")\n",
        "  print(\"7.Simplify Square roots\")\n",
        "  print(\"8.Solve for a variable\")\n",
        "  print(\"9.Display function and table of x&f(x) values\")\n",
        "  print(\"10.\")\n",
        "  print(\"11.Exit\")\n",
        "  choice = int(input(\"Enter your choice (1-9): \"))\n",
        "  if choice == 1:\n",
        "    add()\n",
        "  elif choice == 2:\n",
        "    sub()\n",
        "  elif choice == 3:\n",
        "    mul()\n",
        "  elif choice == 4:\n",
        "    div()\n",
        "  elif choice == 5:\n",
        "    num1=int(input('enter the number'))\n",
        "    if(prime(num1)):\n",
        "        print(\"prime number\")\n",
        "    else:\n",
        "      print(\"Not a prime number\")\n",
        "  elif choice == 6:\n",
        "    prime_fac()\n",
        "  elif choice == 7:\n",
        "    sq_root()\n",
        "  elif choice == 8:\n",
        "    solve_x()\n",
        "  elif choice == 9:\n",
        "    print(\"x\\tf(x)\")\n",
        "    for x in range(11):\n",
        "      print(x,\"\\t\",func(x))\n",
        "  elif choice ==10:\n",
        "    graph_func()\n",
        "  elif choice == 11:\n",
        "    print(\"exiting the calculator\")\n",
        "    break\n",
        "  else:\n",
        "    print(\"Invalid choice.Please choose a valid choice\")\n"
      ],
      "metadata": {
        "id": "vJruVEMwUWFX",
        "colab": {
          "base_uri": "https://localhost:8080/",
          "height": 1000
        },
        "outputId": "fa21d26a-378a-4cb7-9c37-db13bf90d132"
      },
      "execution_count": null,
      "outputs": [
        {
          "name": "stdout",
          "output_type": "stream",
          "text": [
            "\\Menu:\n",
            "1.Add\n",
            "2.Subtract\n",
            "3.Multiply\n",
            "4.Divide\n",
            "5.Detect prime numbers\n",
            "6.Generate prime factors of a number\n",
            "7.Simplify Square roots\n",
            "8.Solve for a variable\n",
            "9.Display function and table of x&f(x) values\n",
            "10.\n",
            "11.Exit\n",
            "Enter your choice (1-9): 9\n",
            "x\tf(x)\n",
            "0 \t 3\n",
            "1 \t 7\n",
            "2 \t 11\n",
            "3 \t 15\n",
            "4 \t 19\n",
            "5 \t 23\n",
            "6 \t 27\n",
            "7 \t 31\n",
            "8 \t 35\n",
            "9 \t 39\n",
            "10 \t 43\n",
            "\\Menu:\n",
            "1.Add\n",
            "2.Subtract\n",
            "3.Multiply\n",
            "4.Divide\n",
            "5.Detect prime numbers\n",
            "6.Generate prime factors of a number\n",
            "7.Simplify Square roots\n",
            "8.Solve for a variable\n",
            "9.Display function and table of x&f(x) values\n",
            "10.\n",
            "11.Exit\n",
            "Enter your choice (1-9): 10\n"
          ]
        },
        {
          "output_type": "display_data",
          "data": {
            "text/plain": [
              "<Figure size 640x480 with 1 Axes>"
            ],
            "image/png": "[encoded data removed]"
          },
          "metadata": {}
        },
        {
          "output_type": "stream",
          "name": "stdout",
          "text": [
            "\\Menu:\n",
            "1.Add\n",
            "2.Subtract\n",
            "3.Multiply\n",
            "4.Divide\n",
            "5.Detect prime numbers\n",
            "6.Generate prime factors of a number\n",
            "7.Simplify Square roots\n",
            "8.Solve for a variable\n",
            "9.Display function and table of x&f(x) values\n",
            "10.\n",
            "11.Exit\n",
            "Enter your choice (1-9): 11\n",
            "exiting the calculator\n"
          ]
        }
      ]
    },
    {
      "cell_type": "markdown",
      "source": [
        "# Algebra-week4"
      ],
      "metadata": {
        "id": "gaizbvQoWNCc"
      }
    },
    {
      "cell_type": "markdown",
      "source": [
        "function and a table of (x,y) values"
      ],
      "metadata": {
        "id": "PtUCWI5_WRZZ"
      }
    },
    {
      "cell_type": "code",
      "source": [
        "x = 5\n",
        "y = 4*x + 3 # The function\n",
        "\n",
        "print(\"x=\",x,\",\",\"y=\",y)\n",
        "\n",
        "print(\"x \\t y\")\n",
        "\n",
        "for x in range(11):\n",
        "    y = 4*x + 3  # The function\n",
        "    print(x, \"\\t\", y)\n",
        "\n"
      ],
      "metadata": {
        "id": "CgYgZ_bX6V24",
        "colab": {
          "base_uri": "https://localhost:8080/"
        },
        "outputId": "8842ab40-b561-44f3-c117-13274e1a0c4d"
      },
      "execution_count": null,
      "outputs": [
        {
          "output_type": "stream",
          "name": "stdout",
          "text": [
            "x= 5 , y= 23\n",
            "x \t y\n",
            "0 \t 3\n",
            "1 \t 7\n",
            "2 \t 11\n",
            "3 \t 15\n",
            "4 \t 19\n",
            "5 \t 23\n",
            "6 \t 27\n",
            "7 \t 31\n",
            "8 \t 35\n",
            "9 \t 39\n",
            "10 \t 43\n"
          ]
        }
      ]
    },
    {
      "cell_type": "code",
      "source": [
        "def f(x):\n",
        "  y=4*x+3\n",
        "  return y\n",
        "print(\"x \\t y\")\n",
        "for x in range(11):\n",
        "  print(x,\"\\t\",f(x))\n",
        "\n",
        "#print(5,\",\",f(5))"
      ],
      "metadata": {
        "colab": {
          "base_uri": "https://localhost:8080/"
        },
        "id": "_cCln7MqW8lX",
        "outputId": "4f4f6adc-b1a4-4989-cf4b-2e16fca0ac64"
      },
      "execution_count": null,
      "outputs": [
        {
          "output_type": "stream",
          "name": "stdout",
          "text": [
            "x \t y\n",
            "0 \t 3\n",
            "1 \t 7\n",
            "2 \t 11\n",
            "3 \t 15\n",
            "4 \t 19\n",
            "5 \t 23\n",
            "6 \t 27\n",
            "7 \t 31\n",
            "8 \t 35\n",
            "9 \t 39\n",
            "10 \t 43\n"
          ]
        }
      ]
    },
    {
      "cell_type": "markdown",
      "source": [
        "intro to graph-basic blank graph"
      ],
      "metadata": {
        "id": "-VkLeP35Ytg_"
      }
    },
    {
      "cell_type": "code",
      "source": [],
      "metadata": {
        "id": "8Qs0ndMsYw08"
      },
      "execution_count": null,
      "outputs": []
    },
    {
      "cell_type": "code",
      "execution_count": null,
      "metadata": {
        "id": "f99FK6TVpM9d",
        "colab": {
          "base_uri": "https://localhost:8080/",
          "height": 435
        },
        "outputId": "6cf600f1-8e9c-4993-8137-515de6434fec"
      },
      "outputs": [
        {
          "output_type": "display_data",
          "data": {
            "text/plain": [
              "<Figure size 640x480 with 1 Axes>"
            ],
            "image/png": "[encoded data removed]"
          },
          "metadata": {}
        }
      ],
      "source": [
        "import matplotlib.pyplot as plt\n",
        "\n",
        "fig, ax = plt.subplots()\n",
        "plt.show()\n"
      ]
    },
    {
      "cell_type": "markdown",
      "source": [
        "defining dimensions of a graph"
      ],
      "metadata": {
        "id": "GJOMork4Y0CD"
      }
    },
    {
      "cell_type": "code",
      "source": [
        "import matplotlib.pyplot\n",
        "fig,ax=plt.subplots()\n",
        "plt.axis([-10,10,-10,10])\n",
        "plt.show()\n"
      ],
      "metadata": {
        "colab": {
          "base_uri": "https://localhost:8080/",
          "height": 435
        },
        "id": "gwn3Oa8WY2lF",
        "outputId": "4d412611-8938-4b98-e8ae-189db2dfefec"
      },
      "execution_count": null,
      "outputs": [
        {
          "output_type": "display_data",
          "data": {
            "text/plain": [
              "<Figure size 640x480 with 1 Axes>"
            ],
            "image/png": "[encoded data removed]"
          },
          "metadata": {}
        }
      ]
    },
    {
      "cell_type": "code",
      "source": [
        "import matplotlib.pyplot as plt\n",
        "xmin=-10\n",
        "xmax=10\n",
        "ymin=-10\n",
        "ymax=10\n",
        "fig,ax=plt.subplots()\n",
        "plt.axis([xmin,xmax,ymin,ymax])\n",
        "plt.show()"
      ],
      "metadata": {
        "colab": {
          "base_uri": "https://localhost:8080/",
          "height": 435
        },
        "id": "KdyY6o3tZMjU",
        "outputId": "79c5a792-c267-4de1-f059-420c30488fb9"
      },
      "execution_count": null,
      "outputs": [
        {
          "output_type": "display_data",
          "data": {
            "text/plain": [
              "<Figure size 640x480 with 1 Axes>"
            ],
            "image/png": "[encoded data removed]"
          },
          "metadata": {}
        }
      ]
    },
    {
      "cell_type": "markdown",
      "source": [
        "display axis lines"
      ],
      "metadata": {
        "id": "FGigTrj0ZiYm"
      }
    },
    {
      "cell_type": "code",
      "source": [
        "import matplotlib.pyplot as plt\n",
        "xmin=-10\n",
        "xmax=10\n",
        "ymin=-10\n",
        "ymax=10\n",
        "fig,ax=plt.subplots()\n",
        "plt.axis([xmin,xmax,ymin,ymax])\n",
        "plt.plot([xmin,xmax],[0,0],'r')\n",
        "plt.plot([0,0],[ymin,ymax],'r')\n",
        "plt.show()\n"
      ],
      "metadata": {
        "colab": {
          "base_uri": "https://localhost:8080/",
          "height": 435
        },
        "id": "9YQwyl-FZkST",
        "outputId": "dc7847c6-1dd1-4da1-92bd-23bcd1d64380"
      },
      "execution_count": null,
      "outputs": [
        {
          "output_type": "display_data",
          "data": {
            "text/plain": [
              "<Figure size 640x480 with 1 Axes>"
            ],
            "image/png": "[encoded data removed]"
          },
          "metadata": {}
        }
      ]
    },
    {
      "cell_type": "markdown",
      "source": [
        "plot a single point"
      ],
      "metadata": {
        "id": "gwoUdEfVaJUu"
      }
    },
    {
      "cell_type": "code",
      "source": [
        "import matplotlib.pyplot as plt\n",
        "xmin=-10\n",
        "xmax=10\n",
        "ymin=-10\n",
        "ymax=10\n",
        "fig,ax=plt.subplots()\n",
        "plt.axis([xmin,xmax,ymin,ymax])\n",
        "plt.plot([xmin,xmax],[0,0],'r')\n",
        "plt.plot([0,0],[ymin,ymax],'r')\n",
        "plt.plot([1],[2],'ko')\n",
        "plt.show()"
      ],
      "metadata": {
        "colab": {
          "base_uri": "https://localhost:8080/",
          "height": 435
        },
        "id": "0uS5Gv3HaL5l",
        "outputId": "672ecb33-32a4-4a9b-dd81-f27c59ba5f7a"
      },
      "execution_count": null,
      "outputs": [
        {
          "output_type": "display_data",
          "data": {
            "text/plain": [
              "<Figure size 640x480 with 1 Axes>"
            ],
            "image/png": "[encoded data removed]"
          },
          "metadata": {}
        }
      ]
    },
    {
      "cell_type": "markdown",
      "source": [
        "plotting many points"
      ],
      "metadata": {
        "id": "f61eIWYAajUw"
      }
    },
    {
      "cell_type": "code",
      "source": [
        "import matplotlib.pyplot as plt\n",
        "xmin=-10\n",
        "xmax=10\n",
        "ymin=-10\n",
        "ymax=10\n",
        "fig,ax=plt.subplots()\n",
        "plt.axis([xmin,xmax,ymin,ymax])\n",
        "plt.plot([xmin,xmax],[0,0],'r')\n",
        "plt.plot([0,0],[ymin,ymax],'r')\n",
        "#plt.plot([1],[2],'ko')\n",
        "eq=input(\"enter the equation\")\n",
        "for x in range(10):\n",
        "  y=eq\n",
        "  plt.plot([x],[y],'ko')\n",
        "plt.show()"
      ],
      "metadata": {
        "colab": {
          "base_uri": "https://localhost:8080/",
          "height": 448
        },
        "id": "gTX-N6SWamIx",
        "outputId": "e4d96f13-0b2b-4a0d-832d-04b556a95af9"
      },
      "execution_count": null,
      "outputs": [
        {
          "name": "stdout",
          "output_type": "stream",
          "text": [
            "enter the equation2*x+5\n"
          ]
        },
        {
          "output_type": "display_data",
          "data": {
            "text/plain": [
              "<Figure size 640x480 with 1 Axes>"
            ],
            "image/png": "[encoded data removed]"
          },
          "metadata": {}
        }
      ]
    },
    {
      "cell_type": "code",
      "source": [
        "import matplotlib.pyplot as plt\n",
        "\n",
        "xmin = -10\n",
        "xmax = 10\n",
        "ymin = -10\n",
        "ymax = 10\n",
        "\n",
        "fig, ax = plt.subplots()\n",
        "plt.axis([xmin,xmax,ymin,ymax]) # window size\n",
        "plt.plot([xmin,xmax],[0,0],'b') # blue x axis\n",
        "plt.plot([0,0],[ymin,ymax], 'b') # blue y axis\n",
        "\n",
        "print(\"x \\t y\")\n",
        "for x in range(xmin, xmax+1):\n",
        "    y = 0.5*x + 1\n",
        "    plt.plot([x],[y], 'ro')\n",
        "    print(x,\"\\t\",y)\n",
        "\n",
        "plt.show()\n"
      ],
      "metadata": {
        "id": "wyhHcBr2sTqb",
        "colab": {
          "base_uri": "https://localhost:8080/",
          "height": 837
        },
        "outputId": "f233fd70-3280-455d-f86b-a28409a0cc29"
      },
      "execution_count": null,
      "outputs": [
        {
          "output_type": "stream",
          "name": "stdout",
          "text": [
            "x \t y\n",
            "-10 \t -4.0\n",
            "-9 \t -3.5\n",
            "-8 \t -3.0\n",
            "-7 \t -2.5\n",
            "-6 \t -2.0\n",
            "-5 \t -1.5\n",
            "-4 \t -1.0\n",
            "-3 \t -0.5\n",
            "-2 \t 0.0\n",
            "-1 \t 0.5\n",
            "0 \t 1.0\n",
            "1 \t 1.5\n",
            "2 \t 2.0\n",
            "3 \t 2.5\n",
            "4 \t 3.0\n",
            "5 \t 3.5\n",
            "6 \t 4.0\n",
            "7 \t 4.5\n",
            "8 \t 5.0\n",
            "9 \t 5.5\n",
            "10 \t 6.0\n"
          ]
        },
        {
          "output_type": "display_data",
          "data": {
            "text/plain": [
              "<Figure size 640x480 with 1 Axes>"
            ],
            "image/png": "[encoded data removed]"
          },
          "metadata": {}
        }
      ]
    },
    {
      "cell_type": "markdown",
      "source": [
        "using arrays as inputs"
      ],
      "metadata": {
        "id": "Fc_sc2S7ci0J"
      }
    },
    {
      "cell_type": "code",
      "source": [
        "import matplotlib.pyplot as plt\n",
        "import numpy as np\n",
        "\n",
        "xmin = -10\n",
        "xmax = 10\n",
        "ymin = -10\n",
        "ymax = 10\n",
        "points = 2*(xmax-xmin)\n",
        "x = np.linspace(xmin, xmax, points)\n",
        "\n",
        "fig, ax = plt.subplots()\n",
        "plt.axis([xmin,xmax,ymin,ymax]) # window size\n",
        "plt.plot([xmin,xmax],[0,0],'b') # blue x axis\n",
        "plt.plot([0,0],[ymin,ymax], 'b') # blue y axis\n",
        "\n",
        "y=x**7+7\n",
        "plt.plot(x,y, 'black')\n",
        "\n",
        "plt.show()"
      ],
      "metadata": {
        "colab": {
          "base_uri": "https://localhost:8080/",
          "height": 435
        },
        "id": "16HtjpNAIJOm",
        "outputId": "4748418f-8213-4eac-ac00-75d51efe3366"
      },
      "execution_count": null,
      "outputs": [
        {
          "output_type": "display_data",
          "data": {
            "text/plain": [
              "<Figure size 640x480 with 1 Axes>"
            ],
            "image/png": "[encoded data removed]"
          },
          "metadata": {}
        }
      ]
    },
    {
      "cell_type": "code",
      "source": [],
      "metadata": {
        "id": "opJvcbXt9exX"
      },
      "execution_count": null,
      "outputs": []
    },
    {
      "cell_type": "code",
      "source": [
        "import matplotlib.pyplot as plt\n",
        "import numpy as np\n",
        "\n",
        "xmin = -10\n",
        "xmax = 10\n",
        "ymin = -10\n",
        "ymax = 10\n",
        "points = 2*(xmax-xmin)\n",
        "x = np.linspace(xmin, xmax, points)\n",
        "\n",
        "fig, ax = plt.subplots()\n",
        "plt.axis([xmin,xmax,ymin,ymax]) # window size\n",
        "plt.plot([xmin,xmax],[0,0],'b') # blue x axis\n",
        "plt.plot([0,0],[ymin,ymax], 'b') # blue y axis\n",
        "\n",
        "ax.set_xlabel(\"x values\")\n",
        "ax.set_ylabel(\"y values\")\n",
        "ax.set_title(\"Some Graph\")\n",
        "ax.grid(True)\n",
        "\n",
        "ax.set_xticks(np.arange(xmin, xmax, 1))\n",
        "ax.set_yticks(np.arange(ymin, ymax, 1))\n",
        "\n",
        "y = 2**x +1\n",
        "plt.plot(x,y, label='y=2^x+1')\n",
        "plt.plot([4],[6], 'ro', label='point')\n",
        "plt.plot(x,3*x, label='steeper line')\n",
        "plt.legend()\n",
        "plt.show()\n"
      ],
      "metadata": {
        "colab": {
          "base_uri": "https://localhost:8080/",
          "height": 472
        },
        "id": "GLaAeuGxX2DU",
        "outputId": "b60936c8-c210-4af3-ea33-1dd5d1cb5dea"
      },
      "execution_count": null,
      "outputs": [
        {
          "output_type": "display_data",
          "data": {
            "text/plain": [
              "<Figure size 640x480 with 1 Axes>"
            ],
            "image/png": "[encoded data removed]"
          },
          "metadata": {}
        }
      ]
    }
  ]
}